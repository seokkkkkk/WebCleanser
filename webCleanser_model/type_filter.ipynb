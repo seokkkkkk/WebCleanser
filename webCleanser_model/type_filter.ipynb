{
 "cells": [
  {
   "cell_type": "code",
   "execution_count": null,
   "id": "initial_id",
   "metadata": {
    "collapsed": true
   },
   "outputs": [],
   "source": "!pip install pandas scikit-learn torch transformers imbalanced-learn nlpaug"
  },
  {
   "metadata": {},
   "cell_type": "code",
   "outputs": [],
   "execution_count": null,
   "source": [
    "import pandas as pd\n",
    "from sklearn.model_selection import train_test_split\n",
    "import torch\n",
    "from transformers import AutoTokenizer, AutoModelForSequenceClassification, Trainer, TrainingArguments, EarlyStoppingCallback\n",
    "from torch.utils.data import Dataset\n",
    "import nlpaug.augmenter.word as naw\n",
    "from sklearn.metrics import classification_report\n",
    "import csv"
   ],
   "id": "83c5059e5a3fcec3"
  },
  {
   "metadata": {},
   "cell_type": "markdown",
   "source": "# 데이터 전처리",
   "id": "3872986e98cb243d"
  },
  {
   "metadata": {},
   "cell_type": "code",
   "outputs": [],
   "execution_count": null,
   "source": [
    "# CSV 데이터 로드\n",
    "df = pd.read_csv('final.csv', quoting=csv.QUOTE_NONE, on_bad_lines='skip')"
   ],
   "id": "ec895f3542b75a90"
  },
  {
   "metadata": {},
   "cell_type": "code",
   "outputs": [],
   "execution_count": null,
   "source": [
    "# 댓글 열을 문자열로 변환하고 결측값 제거\n",
    "df['comments'] = df['comments'].astype(str)\n",
    "df.dropna(subset=['comments', 'type'], inplace=True)"
   ],
   "id": "8f1dc8ce9fcfc3ca"
  },
  {
   "metadata": {},
   "cell_type": "code",
   "outputs": [],
   "execution_count": null,
   "source": [
    "# 데이터 8:2로 나누기\n",
    "train_df, test_df = train_test_split(df, test_size=0.2, random_state=42)"
   ],
   "id": "30e1074ea92bd568"
  },
  {
   "metadata": {},
   "cell_type": "code",
   "outputs": [],
   "execution_count": null,
   "source": [
    "# 원본 훈련 데이터 분포 확인\n",
    "print(\"Original training set distribution:\")\n",
    "print(train_df['type'].value_counts())"
   ],
   "id": "f2b4e814cdca3c2a"
  },
  {
   "metadata": {},
   "cell_type": "code",
   "outputs": [],
   "execution_count": null,
   "source": [
    "# 동의어 교체를 통한 데이터 증강\n",
    "aug = naw.SynonymAug(aug_src='wordnet')\n",
    "\n",
    "def augment_text(text):\n",
    "    return aug.augment(text)"
   ],
   "id": "aea076eea72a1ecd"
  },
  {
   "metadata": {},
   "cell_type": "code",
   "outputs": [],
   "execution_count": null,
   "source": [
    "# 부족한 클래스(3번) 데이터 증강\n",
    "minority_class = train_df[train_df['type'] == 3]\n",
    "augmented_texts = [augment_text(text) for text in minority_class['comments']]\n",
    "augmented_df = pd.DataFrame({'comments': augmented_texts, 'type': [3] * len(augmented_texts)})"
   ],
   "id": "6a41a40c5a22a9d3"
  },
  {
   "metadata": {},
   "cell_type": "code",
   "outputs": [],
   "execution_count": null,
   "source": [
    "# 원본 데이터와 증강 데이터를 합침\n",
    "train_df_augmented = pd.concat([train_df, augmented_df])"
   ],
   "id": "e18cda4e4e147794"
  },
  {
   "metadata": {},
   "cell_type": "code",
   "outputs": [],
   "execution_count": null,
   "source": [
    "# 2번 클래스 추가 증강\n",
    "augmented_texts = [augment_text(text) for text in train_df_augmented[train_df_augmented['type'] == 2]['comments']]\n",
    "augmented_df = pd.DataFrame({'comments': augmented_texts, 'type': [2] * len(augmented_texts)})\n",
    "train_df_augmented = pd.concat([train_df_augmented, augmented_df])"
   ],
   "id": "9d92a65fb76a36e4"
  },
  {
   "metadata": {},
   "cell_type": "code",
   "outputs": [],
   "execution_count": null,
   "source": [
    "# 증강된 훈련 데이터 분포 확인\n",
    "print(\"Augmented training set distribution:\")\n",
    "print(train_df_augmented['type'].value_counts())"
   ],
   "id": "370fc1160f721325"
  },
  {
   "metadata": {},
   "cell_type": "code",
   "outputs": [],
   "execution_count": null,
   "source": [
    "# 0번 클래스와 4번 클래스의 데이터 수를 임의로 줄이기\n",
    "class_0_count = 80000  # 0번 클래스 데이터 수\n",
    "class_4_count = 40000  # 4번 클래스 데이터 수\n",
    "\n",
    "class_0_data = train_df_augmented[train_df_augmented['type'] == 0].sample(class_0_count, random_state=42)\n",
    "class_4_data = train_df_augmented[train_df_augmented['type'] == 4].sample(class_4_count, random_state=42)"
   ],
   "id": "dec8229b1cbcd663"
  },
  {
   "metadata": {},
   "cell_type": "code",
   "outputs": [],
   "execution_count": null,
   "source": [
    "# 나머지 클래스 데이터 합침\n",
    "other_classes_data = train_df_augmented[(train_df_augmented['type'] != 0) & (train_df_augmented['type'] != 4)]\n",
    "train_df_balanced = pd.concat([class_0_data, class_4_data, other_classes_data])"
   ],
   "id": "2ddf02ea15415243"
  },
  {
   "metadata": {},
   "cell_type": "code",
   "outputs": [],
   "execution_count": null,
   "source": [
    "# 최종 훈련 데이터 분포 확인\n",
    "print(\"Balanced training set distribution:\")\n",
    "print(train_df_balanced['type'].value_counts())"
   ],
   "id": "b57c77301637d87f"
  },
  {
   "metadata": {},
   "cell_type": "markdown",
   "source": "# 데이터셋 클래스 정의",
   "id": "977ab01c6f674a12"
  },
  {
   "metadata": {},
   "cell_type": "code",
   "outputs": [],
   "execution_count": null,
   "source": [
    "# 데이터셋 클래스 정의\n",
    "class CommentDataset(Dataset):\n",
    "    def __init__(self, comments, labels, tokenizer, max_length):\n",
    "        self.comments = comments\n",
    "        self.labels = labels\n",
    "        self.tokenizer = tokenizer\n",
    "        self.max_length = max_length\n",
    "\n",
    "    def __len__(self):\n",
    "        return len(self.comments)\n",
    "\n",
    "    def __getitem__(self, idx):\n",
    "        comment = self.comments[idx]\n",
    "        label = self.labels[idx]\n",
    "        encoding = self.tokenizer(\n",
    "            comment,\n",
    "            padding='max_length',\n",
    "            truncation=True,\n",
    "            max_length=self.max_length,\n",
    "            return_tensors='pt'\n",
    "        )\n",
    "        item = {key: val.squeeze(0) for key, val in encoding.items()}\n",
    "        item['labels'] = torch.tensor(label, dtype=torch.long)\n",
    "        return item"
   ],
   "id": "5799d65ebd61576a"
  },
  {
   "metadata": {},
   "cell_type": "markdown",
   "source": "# 토크나이저 및 모델 로드",
   "id": "65ef4389df6989f9"
  },
  {
   "metadata": {},
   "cell_type": "code",
   "outputs": [],
   "execution_count": null,
   "source": [
    "# 토크나이저 로드\n",
    "tokenizer = AutoTokenizer.from_pretrained(\"beomi/KcELECTRA-base\")"
   ],
   "id": "8b0c9124191c50bc"
  },
  {
   "metadata": {},
   "cell_type": "code",
   "outputs": [],
   "execution_count": null,
   "source": [
    "# 훈련 데이터셋 생성\n",
    "train_dataset = CommentDataset(\n",
    "    comments=train_df_balanced['comments'].tolist(),\n",
    "    labels=train_df_balanced['type'].tolist(),\n",
    "    max_length=128\n",
    ")"
   ],
   "id": "a0d23775776ccfb9"
  },
  {
   "metadata": {},
   "cell_type": "code",
   "outputs": [],
   "execution_count": null,
   "source": [
    "# 테스트 데이터셋 생성\n",
    "test_dataset = CommentDataset(\n",
    "    comments=test_df['comments'].tolist(),\n",
    "    labels=test_df['type'].tolist(),\n",
    "    tokenizer=tokenizer,\n",
    "    max_length=128\n",
    ")"
   ],
   "id": "73fe5f36229cb78"
  },
  {
   "metadata": {},
   "cell_type": "code",
   "outputs": [],
   "execution_count": null,
   "source": [
    "# 모델 로드\n",
    "model = AutoModelForSequenceClassification.from_pretrained(\"beomi/KcELECTRA-base\", num_labels=len(df['type'].unique()))"
   ],
   "id": "14c35887e02c2438"
  },
  {
   "metadata": {},
   "cell_type": "markdown",
   "source": "# TrainingArguments 설정 및 Trainer 생성",
   "id": "7131e938e44b7a9a"
  },
  {
   "metadata": {},
   "cell_type": "code",
   "outputs": [],
   "execution_count": null,
   "source": [
    "# TrainingArguments 설정\n",
    "training_args = TrainingArguments(\n",
    "    output_dir='saved_model/type/results',\n",
    "    num_train_epochs=100,\n",
    "    per_device_train_batch_size=16,\n",
    "    per_device_eval_batch_size=16,\n",
    "    warmup_steps=500,\n",
    "    weight_decay=0.01,\n",
    "    logging_dir='saved_model/type/logs',\n",
    "    logging_steps=10,\n",
    "    eval_strategy=\"epoch\",\n",
    "    save_strategy=\"epoch\",\n",
    "    fp16=True,\n",
    "    load_best_model_at_end=True\n",
    ")"
   ],
   "id": "dc77ce10f7c8e457"
  },
  {
   "metadata": {},
   "cell_type": "code",
   "outputs": [],
   "execution_count": null,
   "source": [
    "# Trainer 생성\n",
    "trainer = Trainer(\n",
    "    model=model,\n",
    "    args=training_args,\n",
    "    train_dataset=train_dataset,\n",
    "    eval_dataset=test_dataset,\n",
    "    callbacks=[EarlyStoppingCallback(early_stopping_patience=3)]\n",
    ")"
   ],
   "id": "4ba5d74ce271a354"
  },
  {
   "metadata": {},
   "cell_type": "markdown",
   "source": "# 모델 훈련",
   "id": "e34c6ef0026f5378"
  },
  {
   "metadata": {},
   "cell_type": "code",
   "outputs": [],
   "execution_count": null,
   "source": [
    "# 모델 훈련\n",
    "trainer.train()"
   ],
   "id": "9db80f43f0b995bf"
  },
  {
   "metadata": {},
   "cell_type": "markdown",
   "source": "# 모델 평가 및 성능 평가",
   "id": "46a064f1da3e5d20"
  },
  {
   "metadata": {},
   "cell_type": "code",
   "outputs": [],
   "execution_count": null,
   "source": [
    "# 모델 평가\n",
    "results = trainer.evaluate()\n",
    "print(results)"
   ],
   "id": "7fbfcc0fcf10e05"
  },
  {
   "metadata": {},
   "cell_type": "code",
   "outputs": [],
   "execution_count": null,
   "source": [
    "# 성능 평가\n",
    "predictions = trainer.predict(test_dataset)\n",
    "preds = predictions.predictions.argmax(-1)\n",
    "labels = predictions.label_ids\n",
    "print(classification_report(labels, preds))"
   ],
   "id": "fa46dea9ea55bc05"
  },
  {
   "metadata": {},
   "cell_type": "markdown",
   "source": "# 모델 저장",
   "id": "a722a2999faf6b2c"
  },
  {
   "metadata": {},
   "cell_type": "code",
   "outputs": [],
   "execution_count": null,
   "source": [
    "# 모델 저장\n",
    "model.save_pretrained('saved_model/type')\n",
    "tokenizer.save_pretrained('saved_model/type')\n",
    "\n",
    "print(\"Model and tokenizer saved to 'saved_model/type'\")"
   ],
   "id": "442bd1942955b25"
  }
 ],
 "metadata": {
  "kernelspec": {
   "display_name": "Python 3",
   "language": "python",
   "name": "python3"
  },
  "language_info": {
   "codemirror_mode": {
    "name": "ipython",
    "version": 2
   },
   "file_extension": ".py",
   "mimetype": "text/x-python",
   "name": "python",
   "nbconvert_exporter": "python",
   "pygments_lexer": "ipython2",
   "version": "2.7.6"
  }
 },
 "nbformat": 4,
 "nbformat_minor": 5
}
