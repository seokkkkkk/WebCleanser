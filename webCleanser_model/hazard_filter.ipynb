{
 "cells": [
  {
   "cell_type": "code",
   "execution_count": null,
   "id": "initial_id",
   "metadata": {
    "collapsed": true
   },
   "outputs": [],
   "source": "!pip install pandas scikit-learn torch transformers imbalanced-learn nlpaug"
  },
  {
   "metadata": {},
   "cell_type": "code",
   "outputs": [],
   "execution_count": null,
   "source": [
    "import pandas as pd\n",
    "from sklearn.model_selection import train_test_split\n",
    "import torch\n",
    "from transformers import AutoTokenizer, AutoModelForSequenceClassification, Trainer, TrainingArguments, EarlyStoppingCallback\n",
    "from torch.utils.data import Dataset\n",
    "from sklearn.metrics import classification_report\n",
    "import csv"
   ],
   "id": "8356a513a190da4f"
  },
  {
   "metadata": {},
   "cell_type": "markdown",
   "source": "# 데이터 전처리",
   "id": "ae6f91c2373af0e0"
  },
  {
   "metadata": {},
   "cell_type": "code",
   "outputs": [],
   "execution_count": null,
   "source": [
    "# CSV 데이터 로드\n",
    "df = pd.read_csv('final.csv', quoting=csv.QUOTE_NONE, on_bad_lines='skip')"
   ],
   "id": "a0e26276cdd01d47"
  },
  {
   "metadata": {},
   "cell_type": "code",
   "outputs": [],
   "execution_count": null,
   "source": [
    "# 댓글 열을 문자열로 변환하고 결측값 제거\n",
    "df['comments'] = df['comments'].astype(str)\n",
    "df.dropna(subset=['comments', 'type'], inplace=True)"
   ],
   "id": "80c2bc2a17ddd06d"
  },
  {
   "metadata": {},
   "cell_type": "code",
   "outputs": [],
   "execution_count": null,
   "source": [
    "# 클래스 1 데이터 제거\n",
    "df = df[df['type'] != 1]"
   ],
   "id": "b40d8217e1ce9e27"
  },
  {
   "metadata": {},
   "cell_type": "code",
   "outputs": [],
   "execution_count": null,
   "source": [
    "# 클래스 라벨을 0과 1로 변환\n",
    "df['type'] = df['type'].apply(lambda x: 0 if x == 0 else 1)"
   ],
   "id": "58ac57c45ff1d79"
  },
  {
   "metadata": {},
   "cell_type": "code",
   "outputs": [],
   "execution_count": null,
   "source": [
    "# 데이터셋을 훈련과 테스트로 나누기\n",
    "train_df, test_df = train_test_split(df, test_size=0.2, random_state=42)"
   ],
   "id": "fa7cd54a4044a3da"
  },
  {
   "metadata": {},
   "cell_type": "code",
   "outputs": [],
   "execution_count": null,
   "source": [
    "# 훈련 데이터와 라벨 분리\n",
    "train_comments = train_df[['comments']]\n",
    "train_labels = train_df['type']"
   ],
   "id": "c78953df30009301"
  },
  {
   "metadata": {},
   "cell_type": "code",
   "outputs": [],
   "execution_count": null,
   "source": [
    "# 원본 훈련 데이터 분포 확인\n",
    "print(\"Original training set distribution:\")\n",
    "print(train_df['type'].value_counts())"
   ],
   "id": "5cb564a7719c989d"
  },
  {
   "metadata": {},
   "cell_type": "markdown",
   "source": "# 데이터셋 클래스 정의",
   "id": "3d61ca599735b6d3"
  },
  {
   "metadata": {},
   "cell_type": "code",
   "outputs": [],
   "execution_count": null,
   "source": [
    "# 데이터셋 클래스 정의\n",
    "class CommentDataset(Dataset):\n",
    "    def __init__(self, comments, labels, tokenizer, max_length):\n",
    "        self.comments = comments\n",
    "        self.labels = labels\n",
    "        self.tokenizer = tokenizer\n",
    "        self.max_length = max_length\n",
    "\n",
    "    def __len__(self):\n",
    "        return len(self.comments)\n",
    "\n",
    "    def __getitem__(self, idx):\n",
    "        comment = self.comments[idx]\n",
    "        label = self.labels[idx]\n",
    "        encoding = self.tokenizer(\n",
    "            comment,\n",
    "            padding='max_length',\n",
    "            truncation=True,\n",
    "            max_length=self.max_length,\n",
    "            return_tensors='pt'\n",
    "        )\n",
    "        item = {key: val.squeeze(0) for key, val in encoding.items()}\n",
    "        item['labels'] = torch.tensor(label, dtype=torch.long)\n",
    "        return item"
   ],
   "id": "532aea4022c39861"
  },
  {
   "metadata": {},
   "cell_type": "markdown",
   "source": "# 토크나이저 및 모델 로드",
   "id": "f4edbe1e99c13d87"
  },
  {
   "metadata": {},
   "cell_type": "code",
   "outputs": [],
   "execution_count": null,
   "source": [
    "# 토크나이저 로드\n",
    "tokenizer = AutoTokenizer.from_pretrained(\"beomi/KcELECTRA-base\")"
   ],
   "id": "3c5b86885bc0914c"
  },
  {
   "metadata": {},
   "cell_type": "code",
   "outputs": [],
   "execution_count": null,
   "source": [
    "# 훈련 데이터셋 생성\n",
    "train_dataset = CommentDataset(\n",
    "    comments=train_comments['comments'].tolist(),\n",
    "    labels=train_labels.tolist(),\n",
    "    tokenizer=tokenizer,\n",
    "    max_length=128\n",
    ")"
   ],
   "id": "29a8d6debfec2a72"
  },
  {
   "metadata": {},
   "cell_type": "code",
   "outputs": [],
   "execution_count": null,
   "source": [
    "# 테스트 데이터셋 생성\n",
    "test_dataset = CommentDataset(\n",
    "    comments=test_df['comments'].tolist(),\n",
    "    labels=test_df['type'].tolist(),\n",
    "    tokenizer=tokenizer,\n",
    "    max_length=128\n",
    ")"
   ],
   "id": "2bea0355130244ba"
  },
  {
   "metadata": {},
   "cell_type": "code",
   "outputs": [],
   "execution_count": null,
   "source": [
    "# 모델 로드\n",
    "model = AutoModelForSequenceClassification.from_pretrained(\"beomi/KcELECTRA-base\", num_labels=2)"
   ],
   "id": "eebc099780b253b8"
  },
  {
   "metadata": {},
   "cell_type": "markdown",
   "source": "# TraingArguments 및 Trainer 설정",
   "id": "2fbf7986888a02d0"
  },
  {
   "metadata": {},
   "cell_type": "code",
   "outputs": [],
   "execution_count": null,
   "source": [
    "# TrainingArguments 설정\n",
    "training_args = TrainingArguments(\n",
    "    output_dir='saved_model/hazard/results',\n",
    "    num_train_epochs=30,\n",
    "    per_device_train_batch_size=16,  # 배치 크기를 16으로 증가시킴\n",
    "    per_device_eval_batch_size=16,   # 평가 배치 크기도 동일하게 증가\n",
    "    warmup_steps=500,\n",
    "    weight_decay=0.01,\n",
    "    logging_dir='saved_model/hazard/logs',\n",
    "    logging_steps=10,\n",
    "    evaluation_strategy=\"epoch\",\n",
    "    fp16=True,  # mixed precision training 활성화\n",
    "    save_strategy=\"epoch\",  # 각 에포크마다 모델을 저장\n",
    "    eval_strategy=\"epoch\",\n",
    "    load_best_model_at_end=True,  # 최적의 모델을 마지막에 로드\n",
    "    save_total_limit=3\n",
    ")"
   ],
   "id": "2450aa6e33a1d96d"
  },
  {
   "metadata": {},
   "cell_type": "code",
   "outputs": [],
   "execution_count": null,
   "source": [
    "# Trainer 생성\n",
    "trainer = Trainer(\n",
    "    model=model,  # 모델\n",
    "    args=training_args,  # 훈련 인자\n",
    "    train_dataset=train_dataset,  # 훈련 데이터셋\n",
    "    eval_dataset=test_dataset,  # 평가 데이터셋\n",
    "    callbacks=[EarlyStoppingCallback(early_stopping_patience=3)]\n",
    ")"
   ],
   "id": "1a5e8c3b7a39ecfa"
  },
  {
   "metadata": {},
   "cell_type": "markdown",
   "source": "# 모델 훈련",
   "id": "e8b9e39ddb5ca0f"
  },
  {
   "metadata": {},
   "cell_type": "code",
   "outputs": [],
   "execution_count": null,
   "source": [
    "# 모델 훈련\n",
    "trainer.train()"
   ],
   "id": "b2ada05648ab600e"
  },
  {
   "metadata": {},
   "cell_type": "markdown",
   "source": "# 모델 평가 및 성능 평가",
   "id": "eefda1f3ffc7bea2"
  },
  {
   "metadata": {},
   "cell_type": "code",
   "outputs": [],
   "execution_count": null,
   "source": [
    "# 모델 평가\n",
    "results = trainer.evaluate()\n",
    "print(results)"
   ],
   "id": "62de5449002882ad"
  },
  {
   "metadata": {},
   "cell_type": "code",
   "outputs": [],
   "execution_count": null,
   "source": [
    "# 성능 평가\n",
    "predictions = trainer.predict(test_dataset)\n",
    "preds = predictions.predictions.argmax(-1)\n",
    "labels = predictions.label_ids\n",
    "print(classification_report(labels, preds))"
   ],
   "id": "a9724be9372c38b3"
  },
  {
   "metadata": {},
   "cell_type": "code",
   "outputs": [],
   "execution_count": null,
   "source": [
    "# 모델과 토크나이저 저장\n",
    "model.save_pretrained('saved_model/hazard')\n",
    "tokenizer.save_pretrained('saved_model/hazard')\n",
    "\n",
    "print(\"Model and tokenizer saved to './saved_model/hazard'\")"
   ],
   "id": "c2bb9c4a9ef9b50"
  }
 ],
 "metadata": {
  "kernelspec": {
   "display_name": "Python 3",
   "language": "python",
   "name": "python3"
  },
  "language_info": {
   "codemirror_mode": {
    "name": "ipython",
    "version": 2
   },
   "file_extension": ".py",
   "mimetype": "text/x-python",
   "name": "python",
   "nbconvert_exporter": "python",
   "pygments_lexer": "ipython2",
   "version": "2.7.6"
  }
 },
 "nbformat": 4,
 "nbformat_minor": 5
}
